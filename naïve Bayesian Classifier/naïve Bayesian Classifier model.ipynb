{
 "cells": [
  {
   "cell_type": "code",
   "execution_count": 14,
   "metadata": {},
   "outputs": [],
   "source": [
    "import pandas as pd"
   ]
  },
  {
   "cell_type": "code",
   "execution_count": 15,
   "metadata": {},
   "outputs": [
    {
     "name": "stdout",
     "output_type": "stream",
     "text": [
      "Total instances in the dataset: 18\n",
      "\n",
      "The message and its label of first 5 instances are listed below: \n",
      "\n",
      "I love this sandwich , pos\n",
      "This is an amazing place , pos\n",
      "I feel very good about these beers , pos\n",
      "This is my best work , pos\n",
      "What an awesome view , pos\n"
     ]
    }
   ],
   "source": [
    "msg = pd.read_csv('naivetext.csv', names = ['message', 'label'])\n",
    "print('Total instances in the dataset:', msg.shape[0])\n",
    "\n",
    "msg['labelnum'] = msg.label.map({'pos':1, 'neg':0})\n",
    "\n",
    "X = msg.message\n",
    "Y = msg.labelnum\n",
    "\n",
    "print('\\nThe message and its label of first 5 instances are listed below: \\n')\n",
    "\n",
    "X5, Y5 = X[0:5], msg.label[0:5]\n",
    "for x, y in zip(X5, Y5):\n",
    "    print(x, ',' ,y)"
   ]
  },
  {
   "cell_type": "code",
   "execution_count": 16,
   "metadata": {},
   "outputs": [
    {
     "name": "stdout",
     "output_type": "stream",
     "text": [
      "Dataset is split into Training and Testing samples\n",
      "Total training instances: 13\n",
      "Total testing instances: 5\n"
     ]
    }
   ],
   "source": [
    "from sklearn.model_selection import train_test_split\n",
    "\n",
    "xtrain, xtest, ytrain, ytest = train_test_split(X, Y)\n",
    "\n",
    "print('Dataset is split into Training and Testing samples')\n",
    "print('Total training instances:', xtrain.shape[0])\n",
    "print('Total testing instances:', xtest.shape[0])"
   ]
  },
  {
   "cell_type": "code",
   "execution_count": 17,
   "metadata": {},
   "outputs": [
    {
     "name": "stdout",
     "output_type": "stream",
     "text": [
      "Total features extracted using CountVectorizer: 44\n",
      "\n",
      "Features for first 5 training instances are listed below:\n",
      "\n",
      "   about  am  an  and  awesome  bad  beers  best  boss  can  ...  the  these  \\\n",
      "0      0   0   0    0        0    0      0     0     0    0  ...    0      0   \n",
      "1      0   0   0    0        0    0      0     0     0    0  ...    0      0   \n",
      "2      0   0   0    0        0    1      0     0     0    0  ...    0      0   \n",
      "3      0   0   1    0        1    0      0     0     0    0  ...    0      0   \n",
      "4      0   0   0    0        0    0      0     0     0    0  ...    0      0   \n",
      "\n",
      "   this  tired  to  very  view  what  with  work  \n",
      "0     1      0   0     0     0     0     0     0  \n",
      "1     0      0   0     0     0     0     0     0  \n",
      "2     0      0   1     0     0     0     0     0  \n",
      "3     0      0   0     0     1     1     0     0  \n",
      "4     0      0   1     0     0     0     0     0  \n",
      "\n",
      "[5 rows x 44 columns]\n"
     ]
    }
   ],
   "source": [
    "from sklearn.feature_extraction.text import CountVectorizer\n",
    "\n",
    "count_vect = CountVectorizer()\n",
    "xtrain_dtm = count_vect.fit_transform(xtrain)\n",
    "xtest_dtm = count_vect.transform(xtest)\n",
    "\n",
    "print('Total features extracted using CountVectorizer:', xtrain_dtm.shape[1])\n",
    "print('\\nFeatures for first 5 training instances are listed below:\\n')\n",
    "\n",
    "df = pd.DataFrame(xtrain_dtm.toarray(), columns = count_vect.get_feature_names())\n",
    "print(df[0:5])"
   ]
  },
  {
   "cell_type": "code",
   "execution_count": 18,
   "metadata": {},
   "outputs": [
    {
     "name": "stdout",
     "output_type": "stream",
     "text": [
      "Classstification results of testing samples are given below:\n",
      "\n",
      "I am tired of this stuff -> neg \n",
      "We will have good fun tomorrow -> pos \n",
      "I went to my enemy's house today -> neg \n",
      "This is an amazing place -> pos \n",
      "What a great holiday -> pos \n"
     ]
    }
   ],
   "source": [
    "from sklearn.naive_bayes import MultinomialNB\n",
    "\n",
    "clf = MultinomialNB().fit(xtrain_dtm, ytrain)\n",
    "predicted = clf.predict(xtest_dtm)\n",
    "\n",
    "print('Classstification results of testing samples are given below:\\n')\n",
    "for doc, p in zip(xtest, predicted):\n",
    "    pred = 'pos' if p == 1 else 'neg'\n",
    "    print('%s -> %s ' % (doc, pred))"
   ]
  },
  {
   "cell_type": "code",
   "execution_count": 19,
   "metadata": {},
   "outputs": [
    {
     "name": "stdout",
     "output_type": "stream",
     "text": [
      "Accuracy metrics\n",
      "\n",
      "Accuracy of the classifer: 1.0\n",
      "Recall: 1.0\n",
      "Precison: 1.0\n",
      "\n",
      "Confusion matrix\n",
      "[[2 0]\n",
      " [0 3]]\n"
     ]
    }
   ],
   "source": [
    "from sklearn import metrics\n",
    "\n",
    "print('Accuracy metrics\\n')\n",
    "print('Accuracy of the classifer:', metrics.accuracy_score(ytest, predicted))\n",
    "\n",
    "print('Recall:', metrics.recall_score(ytest,predicted))\n",
    "print('Precison:', metrics.precision_score(ytest, predicted))\n",
    "\n",
    "print('\\nConfusion matrix')\n",
    "print(metrics.confusion_matrix(ytest, predicted))"
   ]
  },
  {
   "cell_type": "code",
   "execution_count": null,
   "metadata": {},
   "outputs": [],
   "source": []
  }
 ],
 "metadata": {
  "kernelspec": {
   "display_name": "Python 3",
   "language": "python",
   "name": "python3"
  },
  "language_info": {
   "codemirror_mode": {
    "name": "ipython",
    "version": 3
   },
   "file_extension": ".py",
   "mimetype": "text/x-python",
   "name": "python",
   "nbconvert_exporter": "python",
   "pygments_lexer": "ipython3",
   "version": "3.7.3"
  }
 },
 "nbformat": 4,
 "nbformat_minor": 2
}
