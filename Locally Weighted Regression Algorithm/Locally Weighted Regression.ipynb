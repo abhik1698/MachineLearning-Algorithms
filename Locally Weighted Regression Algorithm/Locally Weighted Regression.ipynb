{
 "cells": [
  {
   "cell_type": "code",
   "execution_count": 16,
   "metadata": {},
   "outputs": [],
   "source": [
    "import numpy as np\n",
    "import pandas as pd\n",
    "import matplotlib.pyplot as plt"
   ]
  },
  {
   "cell_type": "code",
   "execution_count": 17,
   "metadata": {},
   "outputs": [],
   "source": [
    "def kernel(point, xmat, k):\n",
    "    m, n = np.shape(xmat)\n",
    "    weights = np.mat(np.eye((m)))\n",
    "    \n",
    "    for j in range(m):\n",
    "        diff = point - X[j]\n",
    "        weights[j, j] = np.exp(diff * diff.T / (-2.0 * k**2))\n",
    "    \n",
    "    return weights\n",
    "\n",
    "def localWeight(point, xmat, ymat, k):\n",
    "    wei = kernel(point, xmat, k)\n",
    "    \n",
    "    W = (X.T * (wei * X)).I * (X.T * (wei * ymat.T))\n",
    "    \n",
    "    return W\n",
    "\n",
    "def localWeightRegression(xmat, ymat, k):\n",
    "    m, n = np.shape(xmat)\n",
    "    ypred = np.zeros(m)\n",
    "    \n",
    "    for i in range(m):\n",
    "        ypred[i] = xmat[i] * localWeight(xmat[i], xmat, ymat, k)\n",
    "    \n",
    "    return ypred"
   ]
  },
  {
   "cell_type": "code",
   "execution_count": 18,
   "metadata": {},
   "outputs": [
    {
     "name": "stdout",
     "output_type": "stream",
     "text": [
      "(244, 2)\n"
     ]
    }
   ],
   "source": [
    "data = pd.read_csv('tips.csv')\n",
    "\n",
    "colA = np.array(data.total_bill)\n",
    "colB = np.array(data.tip)\n",
    "\n",
    "mcolA = np.mat(colA)\n",
    "mcolB = np.mat(colB)\n",
    "\n",
    "m = np.shape(mcolA)[1]\n",
    "\n",
    "one = np.ones((1, m), dtype=int)\n",
    "\n",
    "X = np.hstack((one.T, mcolA.T))\n",
    "print(X.shape)"
   ]
  },
  {
   "cell_type": "code",
   "execution_count": 19,
   "metadata": {},
   "outputs": [
    {
     "data": {
      "image/png": "[encoded data removed]",
      "text/plain": [
       "<Figure size 432x288 with 1 Axes>"
      ]
     },
     "metadata": {
      "needs_background": "light"
     },
     "output_type": "display_data"
    }
   ],
   "source": [
    "ypred = localWeightRegression(X, mcolB, 0.5)\n",
    "\n",
    "SortIndex = X[:,1].argsort(0)\n",
    "xsort = X[SortIndex][:,0]\n",
    "\n",
    "fig = plt.figure()\n",
    "ax = fig.add_subplot(1, 1, 1)\n",
    "\n",
    "ax.scatter(colA, colB, color = 'green')\n",
    "ax.plot(xsort[:,1], ypred[SortIndex], color = 'red', linewidth = 5)\n",
    "\n",
    "plt.xlabel('Total_Bill')\n",
    "plt.ylabel('Tip')\n",
    "plt.show()"
   ]
  },
  {
   "cell_type": "code",
   "execution_count": null,
   "metadata": {},
   "outputs": [],
   "source": []
  }
 ],
 "metadata": {
  "kernelspec": {
   "display_name": "Python 3",
   "language": "python",
   "name": "python3"
  },
  "language_info": {
   "codemirror_mode": {
    "name": "ipython",
    "version": 3
   },
   "file_extension": ".py",
   "mimetype": "text/x-python",
   "name": "python",
   "nbconvert_exporter": "python",
   "pygments_lexer": "ipython3",
   "version": "3.7.3"
  }
 },
 "nbformat": 4,
 "nbformat_minor": 2
}
