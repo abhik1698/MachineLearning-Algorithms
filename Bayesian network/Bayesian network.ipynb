{
 "cells": [
  {
   "cell_type": "code",
   "execution_count": 8,
   "metadata": {},
   "outputs": [],
   "source": [
    "import bayespy as bp\n",
    "import numpy as np\n",
    "import csv\n",
    "from colorama import init"
   ]
  },
  {
   "cell_type": "code",
   "execution_count": 9,
   "metadata": {},
   "outputs": [],
   "source": [
    "init()\n",
    "\n",
    "ageEnum = {'SuperSeniorCitizen':0, 'SeniorCitizen':1, 'MiddleAged':2, 'Youth':3, 'Teen':4}\n",
    "genderEnum = {'Male':0, 'Female':1}\n",
    "familyHistoryEnum = {'Yes':0, 'No':1}\n",
    "\n",
    "dietEnum = {'High':0, 'Medium':1, 'Low':2}\n",
    "lifeStyleEnum = {'Athlete':0, 'Active':1, 'Moderate':2, 'Sedetary':3}\n",
    "cholesterolEnum = {'High':0, 'BorderLine':1, 'Normal':2}\n",
    "\n",
    "heartDiseaseEnum = {'Yes':0, 'No':1}\n",
    "\n",
    "with open('heart_disease_data.csv')as file:\n",
    "    lines = csv.reader(file)\n",
    "    dataset = list(lines)\n",
    "    \n",
    "    data = []\n",
    "    for x in dataset:\n",
    "        data.append([ageEnum[x[0]], genderEnum[x[1]], familyHistoryEnum[x[2]], dietEnum[x[3]], lifeStyleEnum[x[4]], cholesterolEnum[x[5]], heartDiseaseEnum[x[6]]])\n",
    "    \n",
    "    data = np.array(data)\n",
    "    N = len(data)    "
   ]
  },
  {
   "cell_type": "code",
   "execution_count": 10,
   "metadata": {},
   "outputs": [
    {
     "name": "stdout",
     "output_type": "stream",
     "text": [
      "\n",
      "\n",
      "Enter Age: {'SuperSeniorCitizen': 0, 'SeniorCitizen': 1, 'MiddleAged': 2, 'Youth': 3, 'Teen': 4}\n",
      "0\n",
      "Enter Gender: {'Male': 0, 'Female': 1}\n",
      "0\n",
      "Enter FamilyHistory:{'Yes': 0, 'No': 1}\n",
      "0\n",
      "Enter dietEnum: {'High': 0, 'Medium': 1, 'Low': 2}\n",
      "1\n",
      "Enter LifeStyle: {'Athlete': 0, 'Active': 1, 'Moderate': 2, 'Sedetary': 3}\n",
      "2\n",
      "Enter Cholesterol:{'High': 0, 'BorderLine': 1, 'Normal': 2}\n",
      "1\n",
      "Probability(HeartDisease) = 0.5\n",
      "Enter 0 to Continue, 1 to Exit\n",
      "0\n",
      "\n",
      "\n",
      "Enter Age: {'SuperSeniorCitizen': 0, 'SeniorCitizen': 1, 'MiddleAged': 2, 'Youth': 3, 'Teen': 4}\n",
      "0\n",
      "Enter Gender: {'Male': 0, 'Female': 1}\n",
      "0\n",
      "Enter FamilyHistory:{'Yes': 0, 'No': 1}\n",
      "0\n",
      "Enter dietEnum: {'High': 0, 'Medium': 1, 'Low': 2}\n",
      "1\n",
      "Enter LifeStyle: {'Athlete': 0, 'Active': 1, 'Moderate': 2, 'Sedetary': 3}\n",
      "3\n",
      "Enter Cholesterol:{'High': 0, 'BorderLine': 1, 'Normal': 2}\n",
      "0\n",
      "Probability(HeartDisease) = 0.8175744761936437\n",
      "Enter 0 to Continue, 1 to Exit\n",
      "1\n"
     ]
    }
   ],
   "source": [
    "p_age = bp.nodes.Dirichlet(1.0 * np.ones(5))\n",
    "age = bp.nodes.Categorical(p_age, plates = (N,))\n",
    "age.observe(data[:,0])\n",
    "\n",
    "p_gender = bp.nodes.Dirichlet(1.0 * np.ones(2))\n",
    "gender = bp.nodes.Categorical(p_gender, plates = (N,))\n",
    "gender.observe(data[:,1])\n",
    "\n",
    "p_familyhistory = bp.nodes.Dirichlet(1.0 * np.ones(2))\n",
    "familyhistory = bp.nodes.Categorical(p_familyhistory, plates = (N,))\n",
    "familyhistory.observe(data[:,2])\n",
    "\n",
    "p_diet = bp.nodes.Dirichlet(1.0 * np.ones(3))\n",
    "diet = bp.nodes.Categorical(p_diet, plates = (N,))\n",
    "diet.observe(data[:,3])\n",
    "\n",
    "p_lifestyle = bp.nodes.Dirichlet(1.0 * np.ones(4))\n",
    "lifestyle = bp.nodes.Categorical(p_lifestyle, plates = (N,))\n",
    "lifestyle.observe(data[:,4])\n",
    "\n",
    "p_cholesterol = bp.nodes.Dirichlet(1.0 * np.ones(3))\n",
    "cholesterol = bp.nodes.Categorical(p_cholesterol, plates = (N,))\n",
    "cholesterol.observe(data[:,5])\n",
    "\n",
    "p_heartdisease = bp.nodes.Dirichlet(np.ones(2), plates = (5, 2, 2, 3, 4, 3))\n",
    "heartdisease = bp.nodes.MultiMixture([age, gender, familyhistory, diet, lifestyle, cholesterol], bp.nodes.Categorical, p_heartdisease)\n",
    "heartdisease.observe(data[:,6])\n",
    "p_heartdisease.update()\n",
    "\n",
    "m = 0\n",
    "\n",
    "while m == 0:    \n",
    "    try:\n",
    "        print(\"\\n\")\n",
    "        a = int(input('Enter Age: ' + str(ageEnum) + \"\\n\"))\n",
    "        g = int(input('Enter Gender: ' + str(genderEnum) + \"\\n\"))\n",
    "        fh = int(input('Enter FamilyHistory:' + str(familyHistoryEnum) + \"\\n\"))\n",
    "        de = int(input('Enter dietEnum: ' + str(dietEnum) + \"\\n\"))\n",
    "        ls = int(input('Enter LifeStyle: ' + str(lifeStyleEnum) + \"\\n\"))\n",
    "        c = int(input('Enter Cholesterol:'+str(cholesterolEnum) + \"\\n\"))\n",
    "\n",
    "        res = bp.nodes.MultiMixture([a, g, fh, de, ls, c], bp.nodes.Categorical, p_heartdisease).get_moments()[0][heartDiseaseEnum['Yes']]\n",
    "\n",
    "        print(\"Probability(HeartDisease) = \" + str(res))        \n",
    "    \n",
    "    except:\n",
    "        print(\"Probability(HeartDisease) = 0.5\")\n",
    "\n",
    "    m = int(input(\"Enter 0 to Continue, 1 to Exit\\n\"))"
   ]
  },
  {
   "cell_type": "code",
   "execution_count": null,
   "metadata": {},
   "outputs": [],
   "source": [
    "\n"
   ]
  },
  {
   "cell_type": "code",
   "execution_count": null,
   "metadata": {},
   "outputs": [],
   "source": []
  }
 ],
 "metadata": {
  "kernelspec": {
   "display_name": "Python 3",
   "language": "python",
   "name": "python3"
  },
  "language_info": {
   "codemirror_mode": {
    "name": "ipython",
    "version": 3
   },
   "file_extension": ".py",
   "mimetype": "text/x-python",
   "name": "python",
   "nbconvert_exporter": "python",
   "pygments_lexer": "ipython3",
   "version": "3.7.3"
  }
 },
 "nbformat": 4,
 "nbformat_minor": 2
}
