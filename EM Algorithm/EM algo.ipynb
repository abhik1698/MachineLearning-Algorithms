{
 "cells": [
  {
   "cell_type": "code",
   "execution_count": 1,
   "metadata": {},
   "outputs": [],
   "source": [
    "import pandas as pd\n",
    "import numpy as np\n",
    "from sklearn.cluster import KMeans\n",
    "import matplotlib.pyplot as plt"
   ]
  },
  {
   "cell_type": "code",
   "execution_count": 6,
   "metadata": {},
   "outputs": [],
   "source": [
    "data = pd.read_csv('kmeansdata.csv')\n",
    "df = pd.DataFrame(data)\n",
    "print(df)"
   ]
  },
  {
   "cell_type": "code",
   "execution_count": 15,
   "metadata": {},
   "outputs": [
    {
     "name": "stdout",
     "output_type": "stream",
     "text": [
      "[(71.24, 28), (52.53, 25), (64.54, 27), (55.69, 22), (54.58, 25), (41.91, 10), (58.64, 20), (52.02, 8), (31.25, 34), (44.31, 19), (49.35, 40), (58.07, 45), (44.22, 22), (55.73, 19), (46.63, 43), (52.97, 32), (46.25, 35), (51.55, 27), (57.05, 26), (58.45, 30), (43.42, 23), (55.68, 37), (55.15, 18)]\n"
     ]
    }
   ],
   "source": [
    "col1 = df['Distance_Feature']\n",
    "col2 = df['Speeding_Feature']\n",
    "print(list(zip(col1,col2)))"
   ]
  },
  {
   "cell_type": "code",
   "execution_count": 26,
   "metadata": {},
   "outputs": [
    {
     "data": {
      "image/png": "[encoded data removed]",
      "text/plain": [
       "<Figure size 432x288 with 1 Axes>"
      ]
     },
     "metadata": {
      "needs_background": "light"
     },
     "output_type": "display_data"
    }
   ],
   "source": [
    "X = np.matrix(list(zip(col1,col2)))\n",
    "\n",
    "plt.xlim([0, 100])\n",
    "plt.ylim([0, 50])\n",
    "plt.title('Dataset')\n",
    "plt.ylabel('Speeding_Feature')\n",
    "plt.xlabel('Distance_Feature')\n",
    "\n",
    "plt.scatter(col1,col2)\n",
    "plt.plot()\n",
    "plt.show()"
   ]
  },
  {
   "cell_type": "code",
   "execution_count": 27,
   "metadata": {},
   "outputs": [
    {
     "data": {
      "image/png": "[encoded data removed]",
      "text/plain": [
       "<Figure size 432x288 with 1 Axes>"
      ]
     },
     "metadata": {
      "needs_background": "light"
     },
     "output_type": "display_data"
    }
   ],
   "source": [
    "colors = ['b','g','r']\n",
    "markers = ['o','v','s']\n",
    "\n",
    "kmeans_model = KMeans(n_clusters=3).fit(X)\n",
    "plt.plot()\n",
    "\n",
    "for i,l in enumerate(kmeans_model.labels_):\n",
    "    plt.plot(col1[i], col2[i], color=colors[l], marker=markers[l], ls='None')\n",
    "    plt.xlim([0, 100])\n",
    "    plt.ylim([0, 50])\n",
    "    \n",
    "plt.show()"
   ]
  },
  {
   "cell_type": "code",
   "execution_count": null,
   "metadata": {},
   "outputs": [],
   "source": []
  }
 ],
 "metadata": {
  "kernelspec": {
   "display_name": "Python 3",
   "language": "python",
   "name": "python3"
  },
  "language_info": {
   "codemirror_mode": {
    "name": "ipython",
    "version": 3
   },
   "file_extension": ".py",
   "mimetype": "text/x-python",
   "name": "python",
   "nbconvert_exporter": "python",
   "pygments_lexer": "ipython3",
   "version": "3.7.3"
  }
 },
 "nbformat": 4,
 "nbformat_minor": 2
}
