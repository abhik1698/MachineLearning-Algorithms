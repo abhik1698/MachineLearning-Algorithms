{
 "cells": [
  {
   "cell_type": "code",
   "execution_count": 56,
   "metadata": {},
   "outputs": [],
   "source": [
    "import pandas as pd\n",
    "import numpy as np"
   ]
  },
  {
   "cell_type": "code",
   "execution_count": 63,
   "metadata": {},
   "outputs": [],
   "source": [
    "def train(con, tar):\n",
    "    specific_h = ['0', '0', '0', '0', '0', '0']\n",
    "    print(\"The most specific hypothesis: \", specific_h)\n",
    "    \n",
    "    for i, v in enumerate(tar):\n",
    "        if v == \"yes\":\n",
    "            specific_h = con[i].copy()\n",
    "            break\n",
    "    \n",
    "    for i, v in enumerate(con):\n",
    "        if tar[i] == \"yes\":\n",
    "            for x in range(len(specific_h)):\n",
    "                if v[x] != specific_h[x]:\n",
    "                    specific_h[x] = \"?\"\n",
    "    \n",
    "    print(\"The Maximally Specific Hypothesis for given Training Examples: \", specific_h)"
   ]
  },
  {
   "cell_type": "code",
   "execution_count": 64,
   "metadata": {},
   "outputs": [],
   "source": [
    "data = pd.read_csv('find-s.csv') #Read all rows & columns in csv file\n",
    "\n",
    "concepts = np.array(data)[ : , : -1] #Copy columns except last(-1) Column\n",
    "target = np.array(data)[ : , -1] #Copy only last(-1) Column[enjoy sport]"
   ]
  },
  {
   "cell_type": "code",
   "execution_count": 65,
   "metadata": {},
   "outputs": [
    {
     "name": "stdout",
     "output_type": "stream",
     "text": [
      "The most specific hypothesis:  ['0', '0', '0', '0', '0', '0']\n",
      "The Maximally Specific Hypothesis for given Training Examples:  ['sunny' 'warm' '?' 'strong' '?' '?']\n"
     ]
    }
   ],
   "source": [
    "train(concepts, target)"
   ]
  },
  {
   "cell_type": "code",
   "execution_count": null,
   "metadata": {},
   "outputs": [],
   "source": []
  },
  {
   "cell_type": "code",
   "execution_count": null,
   "metadata": {},
   "outputs": [],
   "source": []
  }
 ],
 "metadata": {
  "kernelspec": {
   "display_name": "Python 3",
   "language": "python",
   "name": "python3"
  },
  "language_info": {
   "codemirror_mode": {
    "name": "ipython",
    "version": 3
   },
   "file_extension": ".py",
   "mimetype": "text/x-python",
   "name": "python",
   "nbconvert_exporter": "python",
   "pygments_lexer": "ipython3",
   "version": "3.7.3"
  }
 },
 "nbformat": 4,
 "nbformat_minor": 2
}
