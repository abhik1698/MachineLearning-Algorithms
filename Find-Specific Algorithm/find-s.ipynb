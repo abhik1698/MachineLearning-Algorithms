{
 "cells": [
  {
   "cell_type": "code",
   "execution_count": 1,
   "metadata": {},
   "outputs": [
    {
     "name": "stdout",
     "output_type": "stream",
     "text": [
      "The most specific hypothesis:  ['0', '0', '0', '0', '0', '0']\n",
      "The Maximally Specific Hypothesis for given Training Examples:  ['sunny', 'warm', '?', 'strong', '?', '?']\n"
     ]
    }
   ],
   "source": [
    "import csv\n",
    "with open('find-s.csv', 'r') as file:\n",
    "    data = csv.reader(file)\n",
    "    rows = list(data)\n",
    "    \n",
    "    h = ['0', '0', '0', '0', '0', '0']\n",
    "    print (\"The most specific hypothesis: \",  h)\n",
    "    \n",
    "    for i in rows:        \n",
    "        if i[-1] == \"yes\":\n",
    "            j = 0            \n",
    "            for x in i:\n",
    "                if x != \"yes\":\n",
    "                    if x != h[j] and h[j] == '0':\n",
    "                        h[j] = x\n",
    "                    elif x != h[j] and h[j] != '0':                        \n",
    "                        h[j] = '?'\n",
    "                j += 1\n",
    "                \n",
    "    print(\"The Maximally Specific Hypothesis for given Training Examples: \", h)"
   ]
  },
  {
   "cell_type": "code",
   "execution_count": null,
   "metadata": {},
   "outputs": [],
   "source": []
  }
 ],
 "metadata": {
  "kernelspec": {
   "display_name": "Python 3",
   "language": "python",
   "name": "python3"
  },
  "language_info": {
   "codemirror_mode": {
    "name": "ipython",
    "version": 3
   },
   "file_extension": ".py",
   "mimetype": "text/x-python",
   "name": "python",
   "nbconvert_exporter": "python",
   "pygments_lexer": "ipython3",
   "version": "3.7.3"
  }
 },
 "nbformat": 4,
 "nbformat_minor": 2
}
