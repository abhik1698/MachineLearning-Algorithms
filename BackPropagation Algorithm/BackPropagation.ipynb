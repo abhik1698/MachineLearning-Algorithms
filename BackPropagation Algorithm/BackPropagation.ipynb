{
 "cells": [
  {
   "cell_type": "code",
   "execution_count": 2,
   "metadata": {},
   "outputs": [
    {
     "name": "stdout",
     "output_type": "stream",
     "text": [
      "[[0.66666667 1.        ]\n",
      " [0.33333333 0.55555556]\n",
      " [1.         0.66666667]]\n"
     ]
    }
   ],
   "source": [
    "import numpy as np\n",
    "\n",
    "X = np.array(([2, 9], [1, 5], [3, 6]), dtype=float)\n",
    "y = np.array(([92], [86], [89]), dtype=float)\n",
    "\n",
    "X = X/np.amax(X, axis=0)\n",
    "print(X)\n",
    "y = y/100"
   ]
  },
  {
   "cell_type": "code",
   "execution_count": 46,
   "metadata": {},
   "outputs": [
    {
     "name": "stdout",
     "output_type": "stream",
     "text": [
      "Normalized Input: \n",
      "[[0.66666667 1.        ]\n",
      " [0.33333333 0.55555556]\n",
      " [1.         0.66666667]]\n",
      "Actual Output: \n",
      "[[0.92]\n",
      " [0.86]\n",
      " [0.89]]\n",
      "Predicted Output: \n",
      " [[0.87833422]\n",
      " [0.85780969]\n",
      " [0.87354922]]\n"
     ]
    }
   ],
   "source": [
    "def sigmoid(x):\n",
    "    return 1/(1 + np.exp(-x))\n",
    "\n",
    "def sigmoid_grad(x):\n",
    "    return x * (1 - x)\n",
    "\n",
    "epoch=1000\n",
    "eta =0.2\n",
    "\n",
    "input_neurons = 2\n",
    "hidden_neurons = 3\n",
    "output_neurons = 1\n",
    "\n",
    "wh = np.random.rand(input_neurons,hidden_neurons)\n",
    "bh = np.random.rand(1,hidden_neurons)\n",
    "\n",
    "wout = np.random.rand(hidden_neurons,output_neurons)\n",
    "bout = np.random.rand(1,output_neurons)\n",
    "\n",
    "for i in range(epoch):\n",
    "    h_ip = np.dot(X, wh) + bh    \n",
    "    h_act = sigmoid(h_ip)\n",
    "    o_ip = np.dot(h_act, wout) + bout\n",
    "    output = sigmoid(o_ip)\n",
    "    \n",
    "    Eo = y - output\n",
    "    outgrad = sigmoid_grad(output)\n",
    "    d_output = Eo* outgrad    \n",
    "    \n",
    "    Eh = d_output.dot(wout.T)    \n",
    "    hiddengrad = sigmoid_grad(h_act)\n",
    "    d_hidden = Eh * hiddengrad\n",
    "    \n",
    "    wout += h_act.T.dot(d_output) *eta\n",
    "    wh += X.T.dot(d_hidden) *eta\n",
    "    \n",
    "print(\"Normalized Input: \\n\" + str(X))\n",
    "print(\"Actual Output: \\n\" + str(y))\n",
    "print(\"Predicted Output: \\n\" ,output)"
   ]
  },
  {
   "cell_type": "code",
   "execution_count": null,
   "metadata": {},
   "outputs": [],
   "source": []
  },
  {
   "cell_type": "code",
   "execution_count": null,
   "metadata": {},
   "outputs": [],
   "source": []
  }
 ],
 "metadata": {
  "kernelspec": {
   "display_name": "Python 3",
   "language": "python",
   "name": "python3"
  },
  "language_info": {
   "codemirror_mode": {
    "name": "ipython",
    "version": 3
   },
   "file_extension": ".py",
   "mimetype": "text/x-python",
   "name": "python",
   "nbconvert_exporter": "python",
   "pygments_lexer": "ipython3",
   "version": "3.7.3"
  }
 },
 "nbformat": 4,
 "nbformat_minor": 2
}
